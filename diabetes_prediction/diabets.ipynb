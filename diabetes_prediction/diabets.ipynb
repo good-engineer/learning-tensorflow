{
 "metadata": {
  "language_info": {
   "codemirror_mode": {
    "name": "ipython",
    "version": 3
   },
   "file_extension": ".py",
   "mimetype": "text/x-python",
   "name": "python",
   "nbconvert_exporter": "python",
   "pygments_lexer": "ipython3",
   "version": "3.8.5-final"
  },
  "orig_nbformat": 2,
  "kernelspec": {
   "name": "python3",
   "display_name": "Python 3.8.5 64-bit",
   "metadata": {
    "interpreter": {
     "hash": "2db524e06e9f5f4ffedc911c917cb75e12dbc923643829bf417064a77eb14d37"
    }
   }
  }
 },
 "nbformat": 4,
 "nbformat_minor": 2,
 "cells": [
  {
   "cell_type": "code",
   "execution_count": 1,
   "metadata": {},
   "outputs": [],
   "source": [
    "from numpy import loadtxt\n",
    "from keras.models import Sequential\n",
    "from keras.layers import Dense\n",
    "#load data\n",
    "dataset = loadtxt('dataset.csv', delimiter=',')\n",
    "X_train = dataset[0:615, 0:8]\n",
    "y_train = dataset[0:615, 8]\n",
    "# use 20 percent of dataset for evaluation\n",
    "X_test = dataset[615:, 0:8]\n",
    "y_test = dataset[615:, 8]\n",
    "#define the model\n",
    "model = Sequential()\n",
    "model.add(Dense(12, input_dim=8, activation='relu'))\n",
    "model.add(Dense(8, activation='relu'))\n",
    "model.add(Dense(1, activation='sigmoid'))\n",
    "#compile the model\n",
    "model.compile(loss='binary_crossentropy', optimizer='adam', metrics=['accuracy'])"
   ]
  },
  {
   "cell_type": "code",
   "execution_count": 39,
   "metadata": {},
   "outputs": [
    {
     "output_type": "execute_result",
     "data": {
      "text/plain": [
       "<tensorflow.python.keras.callbacks.History at 0x1f6f5930190>"
      ]
     },
     "metadata": {},
     "execution_count": 39
    }
   ],
   "source": [
    "#fit the keras model on dataset\n",
    "model.fit(X_train, y_train, epochs=150, batch_size=15, verbose=0)"
   ]
  },
  {
   "cell_type": "code",
   "execution_count": 40,
   "metadata": {},
   "outputs": [
    {
     "output_type": "stream",
     "name": "stdout",
     "text": [
      "[3.0, 106.0, 72.0, 0.0, 0.0, 25.8, 0.207, 27.0] => 0 (expected 0)\n[6.0, 117.0, 96.0, 0.0, 0.0, 28.7, 0.157, 30.0] => 0 (expected 0)\n[2.0, 68.0, 62.0, 13.0, 15.0, 20.1, 0.257, 23.0] => 0 (expected 0)\n[9.0, 112.0, 82.0, 24.0, 0.0, 28.2, 1.282, 50.0] => 1 (expected 1)\n[0.0, 119.0, 0.0, 0.0, 0.0, 32.4, 0.141, 24.0] => 1 (expected 1)\n[2.0, 112.0, 86.0, 42.0, 160.0, 38.4, 0.246, 28.0] => 0 (expected 0)\n[2.0, 92.0, 76.0, 20.0, 0.0, 24.2, 1.698, 28.0] => 0 (expected 0)\n[6.0, 183.0, 94.0, 0.0, 0.0, 40.8, 1.461, 45.0] => 1 (expected 0)\n[0.0, 94.0, 70.0, 27.0, 115.0, 43.5, 0.347, 21.0] => 0 (expected 0)\n[2.0, 108.0, 64.0, 0.0, 0.0, 30.8, 0.158, 21.0] => 0 (expected 0)\n"
     ]
    }
   ],
   "source": [
    "#make class predictions with the model\n",
    "predictions = model.predict_classes(X_test, verbose = 0)\n",
    "for i in range(10):\n",
    "    print('%s => %d (expected %d)' %(X_test[i].tolist(), predictions[i], y_test[i]))"
   ]
  },
  {
   "cell_type": "code",
   "execution_count": 41,
   "metadata": {},
   "outputs": [
    {
     "output_type": "stream",
     "name": "stdout",
     "text": [
      "Accurancy: 79.74\n"
     ]
    }
   ],
   "source": [
    "#evaluate the model\n",
    "_, accuracy_test = model.evaluate(X_test,y_test, verbose=0)\n",
    "print('Accurancy: %.2f' %(accuracy_test*100))"
   ]
  },
  {
   "cell_type": "code",
   "execution_count": 42,
   "metadata": {},
   "outputs": [
    {
     "output_type": "stream",
     "name": "stdout",
     "text": [
      "model is saved to disk\n"
     ]
    }
   ],
   "source": [
    "#save the model into a JSON file\n",
    "model_json = model.to_json()\n",
    "with open(\"model.json\", \"w\") as json_file:\n",
    "    json_file.write(model_json)\n",
    "model.save_weights(\"model.h5\")\n",
    "print(\"model is saved to disk\")"
   ]
  }
 ]
}